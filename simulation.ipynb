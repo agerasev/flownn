{
 "cells": [
  {
   "cell_type": "code",
   "execution_count": 1,
   "metadata": {},
   "outputs": [],
   "source": [
    "from IPython.display import display, clear_output\n",
    "import numpy as np\n",
    "import pyopencl as cl\n",
    "from PIL import Image\n",
    "import time\n",
    "import signal"
   ]
  },
  {
   "cell_type": "code",
   "execution_count": 2,
   "metadata": {},
   "outputs": [],
   "source": [
    "from skvideo.io import FFmpegWriter\n",
    "from IPython.display import HTML\n",
    "import base64\n",
    "import io"
   ]
  },
  {
   "cell_type": "code",
   "execution_count": 3,
   "metadata": {},
   "outputs": [],
   "source": [
    "from simulation import Scene\n",
    "\n",
    "%load_ext autoreload\n",
    "%autoreload 2"
   ]
  },
  {
   "cell_type": "code",
   "execution_count": 4,
   "metadata": {},
   "outputs": [],
   "source": [
    "signal_done = False\n",
    "\n",
    "def signal_handler(signal, frame):\n",
    "    global signal_done\n",
    "    signal_done = True\n",
    "\n",
    "def stop_on_signal():\n",
    "    global signal_done\n",
    "    signal_done = False\n",
    "    signal.signal(signal.SIGINT, signal_handler)"
   ]
  },
  {
   "cell_type": "code",
   "execution_count": 5,
   "metadata": {},
   "outputs": [],
   "source": [
    "ctx = cl.create_some_context()"
   ]
  },
  {
   "cell_type": "code",
   "execution_count": 6,
   "metadata": {},
   "outputs": [],
   "source": [
    "scene = Scene(\n",
    "    ctx,\n",
    "    (1920, 1080),\n",
    "    params={\n",
    "        \"time_step\": 0.02,\n",
    "        \"grid_size\": 0.001,\n",
    "        \"pressure_steps\": 256,\n",
    "        \"viscosity\": 1e-4,\n",
    "})\n",
    "\n",
    "for i in range(40):\n",
    "    x = np.random.uniform(0, scene.size[0])\n",
    "    y = np.random.uniform(0, scene.size[1])\n",
    "    l = min(scene.size[0], scene.size[1])\n",
    "    r = np.random.uniform(0.01*l, 0.1*l)\n",
    "    v = 0.25*l\n",
    "    vx = np.random.uniform(-v, v)\n",
    "    vy = np.random.uniform(-v, v)\n",
    "    c = np.random.randint(1, 8)\n",
    "    col = ((c>>0)&1,(c>>1)&1,(c>>2)&1)\n",
    "    #col = (1,1,1)\n",
    "    scene.draw(\"circle\", col, (vx, vy), (x, y), r)"
   ]
  },
  {
   "cell_type": "code",
   "execution_count": 8,
   "metadata": {},
   "outputs": [],
   "source": [
    "params = {\n",
    "    \"-vcodec\": \"libx264\",\n",
    "    \"-pix_fmt\": \"yuv420p\",\n",
    "    \"-profile:v\": \"baseline\",\n",
    "    \"-level\": \"3\"\n",
    "}\n",
    "video = FFmpegWriter(\"tmp.mp4\", outputdict=params)\n",
    "stride = int(1.0/(24*scene.params[\"time_step\"]))\n",
    "for i in range(20*24):\n",
    "    for j in range(stride):\n",
    "        scene.step()\n",
    "    img = scene.render()\n",
    "    video.writeFrame(img)\n",
    "video.close()"
   ]
  },
  {
   "cell_type": "code",
   "execution_count": null,
   "metadata": {
    "scrolled": false
   },
   "outputs": [],
   "source": [
    "with open(\"tmp.mp4\", \"rb\") as f:\n",
    "    vdata = f.read()\n",
    "vbase64 = base64.b64encode(vdata).decode(\"ascii\")\n",
    "HTML('<video controls width=800 src=\"data:video/mp4;base64,%s\" type=\"video/mp4\" >' % vbase64)"
   ]
  },
  {
   "cell_type": "code",
   "execution_count": null,
   "metadata": {},
   "outputs": [],
   "source": [
    "display(Image.fromarray(scene.render()))"
   ]
  },
  {
   "cell_type": "code",
   "execution_count": null,
   "metadata": {},
   "outputs": [],
   "source": []
  }
 ],
 "metadata": {
  "kernelspec": {
   "display_name": "Python 3",
   "language": "python",
   "name": "python3"
  },
  "language_info": {
   "codemirror_mode": {
    "name": "ipython",
    "version": 3
   },
   "file_extension": ".py",
   "mimetype": "text/x-python",
   "name": "python",
   "nbconvert_exporter": "python",
   "pygments_lexer": "ipython3",
   "version": "3.6.5rc1"
  }
 },
 "nbformat": 4,
 "nbformat_minor": 2
}
