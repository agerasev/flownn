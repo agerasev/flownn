{
 "cells": [
  {
   "cell_type": "code",
   "execution_count": 1,
   "metadata": {},
   "outputs": [],
   "source": [
    "from IPython.display import display, clear_output\n",
    "import numpy as np\n",
    "import pyopencl as cl\n",
    "from PIL import Image\n",
    "import time\n",
    "import signal"
   ]
  },
  {
   "cell_type": "code",
   "execution_count": 2,
   "metadata": {},
   "outputs": [],
   "source": [
    "from skvideo.io import FFmpegWriter\n",
    "from IPython.display import HTML\n",
    "import base64\n",
    "import io"
   ]
  },
  {
   "cell_type": "code",
   "execution_count": 3,
   "metadata": {},
   "outputs": [],
   "source": [
    "signal_done = False\n",
    "\n",
    "def signal_handler(signal, frame):\n",
    "    global signal_done\n",
    "    signal_done = True\n",
    "\n",
    "def stop_on_signal():\n",
    "    global signal_done\n",
    "    signal_done = False\n",
    "    signal.signal(signal.SIGINT, signal_handler)"
   ]
  },
  {
   "cell_type": "code",
   "execution_count": 4,
   "metadata": {},
   "outputs": [],
   "source": [
    "ctx = cl.create_some_context()\n",
    "queue = cl.CommandQueue(ctx)\n",
    "mf = cl.mem_flags"
   ]
  },
  {
   "cell_type": "code",
   "execution_count": 5,
   "metadata": {},
   "outputs": [],
   "source": [
    "class Buffer:\n",
    "    def __init__(self, nparray, ro=False, dual=False):\n",
    "        self.ro = ro\n",
    "        self.dual = dual\n",
    "        self.host = nparray\n",
    "        flags = 0\n",
    "        if ro:\n",
    "            flags |= mf.READ_ONLY\n",
    "        else:\n",
    "            flags |= mf.READ_WRITE\n",
    "        mkbuf = lambda buf: cl.Buffer(ctx, flags | mf.COPY_HOST_PTR, hostbuf=buf)\n",
    "        self.buf = mkbuf(self.host)\n",
    "        if dual:\n",
    "            self.dbuf = mkbuf(self.host)\n",
    "    \n",
    "    def swap(self):\n",
    "        if self.dual:\n",
    "            self.buf, self.dbuf = self.dbuf, self.buf\n",
    "    \n",
    "    def load(self):\n",
    "        cl.enqueue_copy(queue, self.host, self.buf)"
   ]
  },
  {
   "cell_type": "code",
   "execution_count": 61,
   "metadata": {},
   "outputs": [],
   "source": [
    "class Scene:\n",
    "    def __init__(self, size, params):\n",
    "        self.size = size\n",
    "        self.shape = (size[1], size[0])\n",
    "        \n",
    "        self.params = params\n",
    "        \n",
    "        with open(\"simulation.cl\", \"r\") as f:\n",
    "            self.program = cl.Program(ctx, f.read()).build()\n",
    "        \n",
    "        self.buffers = {}\n",
    "        \n",
    "        self.buffers[\"color\"] = Buffer(np.zeros((*self.shape, 4), dtype=np.float32), dual=True)\n",
    "        self.buffers[\"velocity\"] = Buffer(np.zeros((*self.shape, 2), dtype=np.float32), dual=True)\n",
    "        self.buffers[\"pressure\"] = Buffer(np.zeros((*self.shape, 2), dtype=np.float32), dual=True)\n",
    "        self.buffers[\"screen\"] = Buffer(np.zeros((*self.shape, 3), dtype=np.uint8))\n",
    "        \n",
    "        self.buffers[\"C\"] = Buffer(np.array([\n",
    "            self.params[\"time_step\"],\n",
    "            self.params[\"grid_size\"],\n",
    "            self.params[\"viscosity\"],\n",
    "        ], dtype=np.float32))\n",
    "        \n",
    "        self.program.put_circle(\n",
    "            queue,\n",
    "            self.size,\n",
    "            None,\n",
    "            \n",
    "            self.buffers[\"C\"].buf,\n",
    "            self.buffers[\"color\"].buf,\n",
    "            self.buffers[\"velocity\"].buf,\n",
    "            \n",
    "            np.array([size[0]/2, size[1]/2], dtype=np.float32),\n",
    "            np.array([100], dtype=np.float32),\n",
    "            np.array([0,0,1,0], dtype=np.float32),\n",
    "            np.array([1.0,1.0], dtype=np.float32),\n",
    "        )\n",
    "        \n",
    "    def step(self):\n",
    "        self.program.diffuse(\n",
    "            queue,\n",
    "            self.size,\n",
    "            None,\n",
    "            \n",
    "            self.buffers[\"C\"].buf,\n",
    "            self.buffers[\"velocity\"].buf,\n",
    "            self.buffers[\"velocity\"].dbuf,\n",
    "        )\n",
    "        self.buffers[\"velocity\"].swap()\n",
    "        \n",
    "    def draw(self):\n",
    "        self.program.render(\n",
    "            queue,\n",
    "            self.size,\n",
    "            None,\n",
    "            \n",
    "            self.buffers[\"C\"].buf,\n",
    "            self.buffers[\"color\"].buf,\n",
    "            self.buffers[\"velocity\"].buf,\n",
    "            self.buffers[\"screen\"].buf,\n",
    "        )\n",
    "        self.buffers[\"screen\"].load()\n",
    "        return self.buffers[\"screen\"].host"
   ]
  },
  {
   "cell_type": "code",
   "execution_count": 71,
   "metadata": {},
   "outputs": [],
   "source": [
    "scene = Scene((800, 600), params={\n",
    "    \"time_step\": 1e-3,\n",
    "    \"grid_size\": 0.001,\n",
    "    \"viscosity\": 1e-4,\n",
    "})"
   ]
  },
  {
   "cell_type": "code",
   "execution_count": 72,
   "metadata": {},
   "outputs": [],
   "source": [
    "params = {\n",
    "    \"-vcodec\": \"libx264\",\n",
    "    \"-pix_fmt\": \"yuv420p\",\n",
    "    \"-profile:v\": \"baseline\",\n",
    "    \"-level\": \"3\"\n",
    "}\n",
    "video = FFmpegWriter(\"tmp.mp4\", outputdict=params)\n",
    "stride = int(1.0/(24*scene.params[\"time_step\"]))\n",
    "for i in range(4*24):\n",
    "    for j in range(stride):\n",
    "        scene.step()\n",
    "    img = scene.draw()\n",
    "    video.writeFrame(img)\n",
    "video.close()"
   ]
  },
  {
   "cell_type": "code",
   "execution_count": null,
   "metadata": {
    "scrolled": false
   },
   "outputs": [],
   "source": [
    "with open(\"tmp.mp4\", \"rb\") as f:\n",
    "    vdata = f.read()\n",
    "vbase64 = base64.b64encode(vdata).decode(\"ascii\")\n",
    "HTML('<video controls src=\"data:video/mp4;base64,%s\" type=\"video/mp4\" >' % vbase64)"
   ]
  },
  {
   "cell_type": "code",
   "execution_count": null,
   "metadata": {},
   "outputs": [],
   "source": [
    "display(Image.fromarray(scene.draw()))"
   ]
  },
  {
   "cell_type": "code",
   "execution_count": null,
   "metadata": {},
   "outputs": [],
   "source": []
  }
 ],
 "metadata": {
  "kernelspec": {
   "display_name": "Python 3",
   "language": "python",
   "name": "python3"
  },
  "language_info": {
   "codemirror_mode": {
    "name": "ipython",
    "version": 3
   },
   "file_extension": ".py",
   "mimetype": "text/x-python",
   "name": "python",
   "nbconvert_exporter": "python",
   "pygments_lexer": "ipython3",
   "version": "3.6.5rc1"
  }
 },
 "nbformat": 4,
 "nbformat_minor": 2
}
