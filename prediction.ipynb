{
 "cells": [
  {
   "cell_type": "code",
   "execution_count": 1,
   "metadata": {},
   "outputs": [],
   "source": [
    "from IPython.display import display, clear_output\n",
    "import numpy as np\n",
    "import pyopencl as cl\n",
    "from PIL import Image\n",
    "import timeit"
   ]
  },
  {
   "cell_type": "code",
   "execution_count": 2,
   "metadata": {},
   "outputs": [],
   "source": [
    "import torch\n",
    "import torch.nn as nn\n",
    "import torch.optim as optim\n",
    "from torch import Tensor\n",
    "from torch.autograd import Variable"
   ]
  },
  {
   "cell_type": "code",
   "execution_count": 3,
   "metadata": {},
   "outputs": [],
   "source": [
    "from simulation import Scene\n",
    "\n",
    "%load_ext autoreload\n",
    "%autoreload 2"
   ]
  },
  {
   "cell_type": "code",
   "execution_count": 4,
   "metadata": {},
   "outputs": [],
   "source": [
    "ctx = cl.create_some_context()"
   ]
  },
  {
   "cell_type": "code",
   "execution_count": 5,
   "metadata": {},
   "outputs": [
    {
     "data": {
      "text/plain": [
       "True"
      ]
     },
     "execution_count": 5,
     "metadata": {},
     "output_type": "execute_result"
    }
   ],
   "source": [
    "torch.cuda.is_available()"
   ]
  },
  {
   "cell_type": "code",
   "execution_count": 43,
   "metadata": {},
   "outputs": [],
   "source": [
    "cpu_dtype = torch.FloatTensor\n",
    "gpu_dtype = torch.cuda.FloatTensor"
   ]
  },
  {
   "cell_type": "code",
   "execution_count": 53,
   "metadata": {},
   "outputs": [],
   "source": [
    "class Net(nn.Module):\n",
    "    def __init__(self):\n",
    "        super(Net, self).__init__()\n",
    "        \n",
    "        self.down = nn.ModuleList([\n",
    "            nn.ModuleList([\n",
    "                nn.Conv2d(3, 16, kernel_size=5, padding=2),\n",
    "                nn.ReLU(inplace=True),\n",
    "                nn.MaxPool2d(2, stride=2, return_indices=True),\n",
    "            ]),\n",
    "        ])\n",
    "\n",
    "        self.up = nn.ModuleList([\n",
    "            nn.ModuleList([\n",
    "                nn.MaxUnpool2d(2, stride=2),\n",
    "                nn.ReLU(inplace=True),\n",
    "                nn.ConvTranspose2d(16, 3, kernel_size=5, padding=2),\n",
    "            ]),\n",
    "        ])\n",
    "    \n",
    "    def forward(self, x):\n",
    "        indices = []\n",
    "        for d in self.down:\n",
    "            for l in d:\n",
    "                x = l(x)\n",
    "            x, idx = x\n",
    "            indices.append(idx)\n",
    "        \n",
    "        for u, idx in zip(self.up, reversed(indices)):\n",
    "            x = x, idx\n",
    "            for l in u:\n",
    "                x = l(*x)\n",
    "                x = x,\n",
    "            x, = x\n",
    "        \n",
    "        return x"
   ]
  },
  {
   "cell_type": "code",
   "execution_count": 60,
   "metadata": {},
   "outputs": [],
   "source": [
    "model = Net().cuda()"
   ]
  },
  {
   "cell_type": "code",
   "execution_count": 8,
   "metadata": {},
   "outputs": [],
   "source": [
    "def random_draw(scene, n):\n",
    "    for i in range(n):\n",
    "        x = np.random.uniform(0, scene.size[0])\n",
    "        y = np.random.uniform(0, scene.size[1])\n",
    "        l = min(scene.size[0], scene.size[1])\n",
    "        r = np.random.uniform(0.01*l, 0.25*l)\n",
    "        v = 0.25*l;\n",
    "        vx = np.random.uniform(-v, v)\n",
    "        vy = np.random.uniform(-v, v)\n",
    "        #c = np.random.randint(1, 8)\n",
    "        #col = ((c>>0)&1,(c>>1)&1,(c>>2)&1)\n",
    "        col = (0,1,0)\n",
    "        scene.draw(\"circle\", col, (vx, vy), (x, y), r)"
   ]
  },
  {
   "cell_type": "code",
   "execution_count": 13,
   "metadata": {},
   "outputs": [],
   "source": [
    "scene = Scene(\n",
    "    ctx,\n",
    "    (64, 64),\n",
    "    params={\n",
    "        \"time_step\": 1/24,\n",
    "        \"grid_size\": 0.001,\n",
    "        \"pressure_steps\": 64,\n",
    "        \"viscosity\": 1e-4,\n",
    "})\n",
    "random_draw(scene, 10)\n",
    "seq = []\n",
    "for i in range(10*24):\n",
    "    scene.step()\n",
    "    scene.buffers[\"color\"].load(scene.queue)\n",
    "    scene.buffers[\"velocity\"].load(scene.queue)\n",
    "    buffer = np.concatenate((scene.buffers[\"color\"].host[:,:,1:2], scene.buffers[\"velocity\"].host), axis=2)\n",
    "    seq.append(buffer)\n",
    "seq = np.stack(seq)"
   ]
  },
  {
   "cell_type": "code",
   "execution_count": 14,
   "metadata": {},
   "outputs": [
    {
     "data": {
      "image/png": "[encoded data removed]",
      "text/plain": [
       "<PIL.Image.Image image mode=RGBA size=64x64 at 0x7F17E429C208>"
      ]
     },
     "metadata": {},
     "output_type": "display_data"
    }
   ],
   "source": [
    "scene.buffers[\"color\"].load(scene.queue)\n",
    "scene.buffers[\"velocity\"].load(scene.queue)\n",
    "display(Image.fromarray(scene.render()))\n",
    "buffer = np.concatenate((scene.buffers[\"color\"].host[:,:,1:2], scene.buffers[\"velocity\"].host), axis=2)"
   ]
  },
  {
   "cell_type": "code",
   "execution_count": 18,
   "metadata": {},
   "outputs": [
    {
     "name": "stdout",
     "output_type": "stream",
     "text": [
      "(240, 3, 64, 64)\n"
     ]
    }
   ],
   "source": [
    "seqt = np.transpose(seq, axes=(0,3,1,2))\n",
    "print(seqt.shape)"
   ]
  },
  {
   "cell_type": "code",
   "execution_count": 61,
   "metadata": {},
   "outputs": [],
   "source": [
    "x = Tensor(seqt).cuda()\n",
    "x_var = Variable(x.cuda())\n",
    "y = model(x_var)"
   ]
  },
  {
   "cell_type": "code",
   "execution_count": 62,
   "metadata": {},
   "outputs": [
    {
     "name": "stdout",
     "output_type": "stream",
     "text": [
      "torch.Size([240, 3, 64, 64])\n"
     ]
    }
   ],
   "source": [
    "print(y.shape)"
   ]
  },
  {
   "cell_type": "code",
   "execution_count": 64,
   "metadata": {},
   "outputs": [
    {
     "data": {
      "image/png": "[encoded data removed]",
      "text/plain": [
       "<PIL.Image.Image image mode=L size=64x64 at 0x7F17E4268550>"
      ]
     },
     "metadata": {},
     "output_type": "display_data"
    },
    {
     "data": {
      "image/png": "[encoded data removed]",
      "text/plain": [
       "<PIL.Image.Image image mode=L size=64x64 at 0x7F17E4268128>"
      ]
     },
     "metadata": {},
     "output_type": "display_data"
    }
   ],
   "source": [
    "npy = y.data.cpu().numpy()\n",
    "display(Image.fromarray((255*seqt[0][0]).astype(np.uint8)))\n",
    "display(Image.fromarray((255*npy[0][0]).astype(np.uint8)))"
   ]
  },
  {
   "cell_type": "code",
   "execution_count": 66,
   "metadata": {},
   "outputs": [],
   "source": [
    "loss_fn = nn.MSELoss().cuda()\n",
    "optimizer = optim.Adam(model.parameters(), lr=1e-2)"
   ]
  },
  {
   "cell_type": "code",
   "execution_count": 51,
   "metadata": {},
   "outputs": [
    {
     "data": {
      "text/plain": [
       "array([1.       , 6.0533934, 7.3110647], dtype=float32)"
      ]
     },
     "execution_count": 51,
     "metadata": {},
     "output_type": "execute_result"
    }
   ],
   "source": [
    "buffer_norm = np.abs(buffer)\n",
    "bmax = np.max(buffer, axis=(0, 1))\n",
    "bmax"
   ]
  },
  {
   "cell_type": "code",
   "execution_count": 52,
   "metadata": {},
   "outputs": [],
   "source": [
    "buffer_norm = buffer_norm/bmax"
   ]
  },
  {
   "cell_type": "code",
   "execution_count": 53,
   "metadata": {},
   "outputs": [
    {
     "data": {
      "image/png": "[encoded data removed]",
      "text/plain": [
       "<PIL.Image.Image image mode=RGB size=64x64 at 0x7FA1AC6CCC88>"
      ]
     },
     "metadata": {},
     "output_type": "display_data"
    }
   ],
   "source": [
    "display(Image.fromarray((255*buffer_norm).astype(np.uint8)))"
   ]
  },
  {
   "cell_type": "code",
   "execution_count": 30,
   "metadata": {},
   "outputs": [],
   "source": [
    "for i in range(1*24):\n",
    "    scene.step()"
   ]
  },
  {
   "cell_type": "code",
   "execution_count": 31,
   "metadata": {},
   "outputs": [
    {
     "data": {
      "image/png": "[encoded data removed]",
      "text/plain": [
       "<PIL.Image.Image image mode=RGBA size=64x64 at 0x7FA1AC78DC18>"
      ]
     },
     "execution_count": 31,
     "metadata": {},
     "output_type": "execute_result"
    }
   ],
   "source": [
    "Image.fromarray(scene.render())"
   ]
  },
  {
   "cell_type": "code",
   "execution_count": null,
   "metadata": {},
   "outputs": [],
   "source": []
  },
  {
   "cell_type": "code",
   "execution_count": 67,
   "metadata": {},
   "outputs": [
    {
     "name": "stdout",
     "output_type": "stream",
     "text": [
      "(64, 240, 64, 64, 3)\n"
     ]
    }
   ],
   "source": [
    "batch_size = 64\n",
    "\n",
    "data = []\n",
    "for j in range(batch_size):\n",
    "    scene = Scene(\n",
    "        ctx,\n",
    "        (64, 64),\n",
    "        params={\n",
    "            \"time_step\": 1/24,\n",
    "            \"grid_size\": 0.001,\n",
    "            \"pressure_steps\": 16,\n",
    "            \"viscosity\": 1e-4,\n",
    "    })\n",
    "    random_draw(scene, 10)\n",
    "    seq = []\n",
    "    for i in range(10*24):\n",
    "        scene.step()\n",
    "        scene.buffers[\"color\"].load(scene.queue)\n",
    "        scene.buffers[\"velocity\"].load(scene.queue)\n",
    "        buffer = np.concatenate((scene.buffers[\"color\"].host[:,:,1:2], scene.buffers[\"velocity\"].host), axis=2)\n",
    "        seq.append(buffer)\n",
    "    seq = np.stack(seq)\n",
    "    data.append(seq)\n",
    "data = np.stack(data)\n",
    "print(data.shape)"
   ]
  },
  {
   "cell_type": "code",
   "execution_count": 69,
   "metadata": {},
   "outputs": [
    {
     "name": "stdout",
     "output_type": "stream",
     "text": [
      "(240, 64, 3, 64, 64)\n"
     ]
    }
   ],
   "source": [
    "datat = np.transpose(data, axes=(1, 0, 4, 2, 3))\n",
    "print(datat.shape)"
   ]
  },
  {
   "cell_type": "code",
   "execution_count": 70,
   "metadata": {},
   "outputs": [],
   "source": [
    "xdata, ydata = datat[:-24], datat[24:]"
   ]
  },
  {
   "cell_type": "code",
   "execution_count": 73,
   "metadata": {},
   "outputs": [
    {
     "name": "stdout",
     "output_type": "stream",
     "text": [
      "t = 1, loss = 5.5703\n",
      "t = 2, loss = 3.5954\n",
      "t = 3, loss = 2.5752\n",
      "t = 4, loss = 2.1720\n",
      "t = 5, loss = 1.8964\n",
      "t = 6, loss = 1.6278\n",
      "t = 7, loss = 1.3699\n",
      "t = 8, loss = 1.2533\n",
      "t = 9, loss = 1.1529\n",
      "t = 10, loss = 0.9960\n",
      "t = 11, loss = 0.9388\n",
      "t = 12, loss = 0.8695\n",
      "t = 13, loss = 0.7616\n",
      "t = 14, loss = 0.7110\n",
      "t = 15, loss = 0.6811\n",
      "t = 16, loss = 0.6475\n",
      "t = 17, loss = 0.6033\n",
      "t = 18, loss = 0.5522\n",
      "t = 19, loss = 0.5220\n",
      "t = 20, loss = 0.4867\n",
      "t = 21, loss = 0.4447\n",
      "t = 22, loss = 0.4166\n",
      "t = 23, loss = 0.3904\n",
      "t = 24, loss = 0.3631\n",
      "t = 25, loss = 0.3462\n",
      "t = 26, loss = 0.3294\n",
      "t = 27, loss = 0.3042\n",
      "t = 28, loss = 0.2827\n",
      "t = 29, loss = 0.2700\n",
      "t = 30, loss = 0.2574\n",
      "t = 31, loss = 0.2430\n",
      "t = 32, loss = 0.2316\n",
      "t = 33, loss = 0.2218\n",
      "t = 34, loss = 0.2116\n",
      "t = 35, loss = 0.2011\n",
      "t = 36, loss = 0.1901\n",
      "t = 37, loss = 0.1811\n",
      "t = 38, loss = 0.1735\n",
      "t = 39, loss = 0.1644\n",
      "t = 40, loss = 0.1553\n",
      "t = 41, loss = 0.1489\n",
      "t = 42, loss = 0.1429\n",
      "t = 43, loss = 0.1362\n",
      "t = 44, loss = 0.1311\n",
      "t = 45, loss = 0.1268\n",
      "t = 46, loss = 0.1212\n",
      "t = 47, loss = 0.1155\n",
      "t = 48, loss = 0.1110\n",
      "t = 49, loss = 0.1071\n",
      "t = 50, loss = 0.1030\n",
      "t = 51, loss = 0.0995\n",
      "t = 52, loss = 0.0959\n",
      "t = 53, loss = 0.0922\n",
      "t = 54, loss = 0.0889\n",
      "t = 55, loss = 0.0859\n",
      "t = 56, loss = 0.0829\n",
      "t = 57, loss = 0.0801\n",
      "t = 58, loss = 0.0776\n",
      "t = 59, loss = 0.0750\n",
      "t = 60, loss = 0.0725\n",
      "t = 61, loss = 0.0703\n",
      "t = 62, loss = 0.0682\n",
      "t = 63, loss = 0.0660\n",
      "t = 64, loss = 0.0640\n",
      "t = 65, loss = 0.0621\n",
      "t = 66, loss = 0.0603\n",
      "t = 67, loss = 0.0585\n",
      "t = 68, loss = 0.0568\n",
      "t = 69, loss = 0.0551\n",
      "t = 70, loss = 0.0535\n",
      "t = 71, loss = 0.0521\n",
      "t = 72, loss = 0.0507\n",
      "t = 73, loss = 0.0493\n",
      "t = 74, loss = 0.0479\n",
      "t = 75, loss = 0.0467\n",
      "t = 76, loss = 0.0455\n",
      "t = 77, loss = 0.0443\n",
      "t = 78, loss = 0.0432\n",
      "t = 79, loss = 0.0421\n",
      "t = 80, loss = 0.0411\n",
      "t = 81, loss = 0.0400\n",
      "t = 82, loss = 0.0391\n",
      "t = 83, loss = 0.0382\n",
      "t = 84, loss = 0.0372\n",
      "t = 85, loss = 0.0363\n",
      "t = 86, loss = 0.0355\n",
      "t = 87, loss = 0.0347\n",
      "t = 88, loss = 0.0339\n",
      "t = 89, loss = 0.0331\n",
      "t = 90, loss = 0.0324\n",
      "t = 91, loss = 0.0317\n",
      "t = 92, loss = 0.0310\n",
      "t = 93, loss = 0.0303\n",
      "t = 94, loss = 0.0297\n",
      "t = 95, loss = 0.0291\n",
      "t = 96, loss = 0.0284\n",
      "t = 97, loss = 0.0279\n",
      "t = 98, loss = 0.0273\n",
      "t = 99, loss = 0.0267\n",
      "t = 100, loss = 0.0262\n",
      "t = 101, loss = 0.0257\n",
      "t = 102, loss = 0.0251\n",
      "t = 103, loss = 0.0246\n",
      "t = 104, loss = 0.0241\n",
      "t = 105, loss = 0.0237\n",
      "t = 106, loss = 0.0232\n",
      "t = 107, loss = 0.0228\n",
      "t = 108, loss = 0.0223\n",
      "t = 109, loss = 0.0219\n",
      "t = 110, loss = 0.0215\n",
      "t = 111, loss = 0.0211\n",
      "t = 112, loss = 0.0207\n",
      "t = 113, loss = 0.0204\n",
      "t = 114, loss = 0.0200\n",
      "t = 115, loss = 0.0196\n",
      "t = 116, loss = 0.0193\n",
      "t = 117, loss = 0.0189\n",
      "t = 118, loss = 0.0186\n",
      "t = 119, loss = 0.0183\n",
      "t = 120, loss = 0.0180\n",
      "t = 121, loss = 0.0176\n",
      "t = 122, loss = 0.0173\n",
      "t = 123, loss = 0.0170\n",
      "t = 124, loss = 0.0168\n",
      "t = 125, loss = 0.0165\n",
      "t = 126, loss = 0.0162\n",
      "t = 127, loss = 0.0160\n",
      "t = 128, loss = 0.0157\n",
      "t = 129, loss = 0.0155\n",
      "t = 130, loss = 0.0152\n",
      "t = 131, loss = 0.0150\n",
      "t = 132, loss = 0.0148\n",
      "t = 133, loss = 0.0145\n",
      "t = 134, loss = 0.0143\n",
      "t = 135, loss = 0.0141\n",
      "t = 136, loss = 0.0139\n",
      "t = 137, loss = 0.0137\n",
      "t = 138, loss = 0.0135\n",
      "t = 139, loss = 0.0133\n",
      "t = 140, loss = 0.0131\n",
      "t = 141, loss = 0.0129\n",
      "t = 142, loss = 0.0127\n",
      "t = 143, loss = 0.0126\n",
      "t = 144, loss = 0.0124\n",
      "t = 145, loss = 0.0122\n",
      "t = 146, loss = 0.0121\n",
      "t = 147, loss = 0.0119\n",
      "t = 148, loss = 0.0117\n",
      "t = 149, loss = 0.0116\n",
      "t = 150, loss = 0.0114\n",
      "t = 151, loss = 0.0113\n",
      "t = 152, loss = 0.0111\n",
      "t = 153, loss = 0.0110\n",
      "t = 154, loss = 0.0108\n",
      "t = 155, loss = 0.0107\n",
      "t = 156, loss = 0.0106\n",
      "t = 157, loss = 0.0104\n",
      "t = 158, loss = 0.0103\n",
      "t = 159, loss = 0.0102\n",
      "t = 160, loss = 0.0101\n",
      "t = 161, loss = 0.0099\n",
      "t = 162, loss = 0.0098\n",
      "t = 163, loss = 0.0097\n",
      "t = 164, loss = 0.0096\n",
      "t = 165, loss = 0.0095\n",
      "t = 166, loss = 0.0093\n",
      "t = 167, loss = 0.0092\n",
      "t = 168, loss = 0.0091\n",
      "t = 169, loss = 0.0090\n",
      "t = 170, loss = 0.0089\n",
      "t = 171, loss = 0.0088\n",
      "t = 172, loss = 0.0087\n",
      "t = 173, loss = 0.0086\n",
      "t = 174, loss = 0.0085\n",
      "t = 175, loss = 0.0084\n",
      "t = 176, loss = 0.0083\n",
      "t = 177, loss = 0.0082\n",
      "t = 178, loss = 0.0081\n",
      "t = 179, loss = 0.0081\n",
      "t = 180, loss = 0.0080\n",
      "t = 181, loss = 0.0079\n",
      "t = 182, loss = 0.0078\n",
      "t = 183, loss = 0.0077\n",
      "t = 184, loss = 0.0076\n",
      "t = 185, loss = 0.0076\n",
      "t = 186, loss = 0.0075\n",
      "t = 187, loss = 0.0074\n",
      "t = 188, loss = 0.0073\n",
      "t = 189, loss = 0.0073\n",
      "t = 190, loss = 0.0072\n",
      "t = 191, loss = 0.0071\n",
      "t = 192, loss = 0.0070\n",
      "t = 193, loss = 0.0070\n",
      "t = 194, loss = 0.0069\n",
      "t = 195, loss = 0.0068\n",
      "t = 196, loss = 0.0068\n",
      "t = 197, loss = 0.0067\n",
      "t = 198, loss = 0.0066\n",
      "t = 199, loss = 0.0066\n",
      "t = 200, loss = 0.0065\n",
      "t = 201, loss = 0.0065\n",
      "t = 202, loss = 0.0064\n",
      "t = 203, loss = 0.0063\n",
      "t = 204, loss = 0.0063\n",
      "t = 205, loss = 0.0062\n",
      "t = 206, loss = 0.0062\n",
      "t = 207, loss = 0.0061\n",
      "t = 208, loss = 0.0061\n",
      "t = 209, loss = 0.0060\n",
      "t = 210, loss = 0.0059\n",
      "t = 211, loss = 0.0059\n",
      "t = 212, loss = 0.0059\n",
      "t = 213, loss = 0.0058\n",
      "t = 214, loss = 0.0057\n",
      "t = 215, loss = 0.0057\n",
      "t = 216, loss = 0.0057\n"
     ]
    }
   ],
   "source": [
    "model.train()\n",
    "\n",
    "for t, (x, y) in enumerate(zip(xdata, ydata)):\n",
    "    x_var = Variable(Tensor(x).cuda())\n",
    "    y_var = Variable(Tensor(y).cuda())\n",
    "\n",
    "    y_var_pred = model(x_var)\n",
    "    \n",
    "    loss = loss_fn(y_var_pred, y_var)\n",
    "    \n",
    "    print('t = %d, loss = %.4f' % (t + 1, loss.data[0]))\n",
    "\n",
    "    optimizer.zero_grad()\n",
    "    \n",
    "    loss.backward()\n",
    "    \n",
    "    optimizer.step()"
   ]
  },
  {
   "cell_type": "code",
   "execution_count": 74,
   "metadata": {},
   "outputs": [],
   "source": [
    "x = Tensor(datat[0][0:1]).cuda()\n",
    "x_var = Variable(x.cuda())\n",
    "y = model(x_var)"
   ]
  },
  {
   "cell_type": "code",
   "execution_count": 77,
   "metadata": {},
   "outputs": [
    {
     "name": "stdout",
     "output_type": "stream",
     "text": [
      "(64, 64, 3)\n"
     ]
    }
   ],
   "source": [
    "y_cpu = np.transpose(y.data.cpu().numpy()[0], axes=(1, 2, 0))\n",
    "print(y_cpu.shape)"
   ]
  },
  {
   "cell_type": "code",
   "execution_count": 82,
   "metadata": {},
   "outputs": [
    {
     "data": {
      "image/png": "[encoded data removed]",
      "text/plain": [
       "<PIL.Image.Image image mode=RGB size=64x64 at 0x7F17E4022668>"
      ]
     },
     "metadata": {},
     "output_type": "display_data"
    },
    {
     "data": {
      "image/png": "[encoded data removed]",
      "text/plain": [
       "<PIL.Image.Image image mode=RGB size=64x64 at 0x7F17E4022630>"
      ]
     },
     "metadata": {},
     "output_type": "display_data"
    }
   ],
   "source": [
    "display(Image.fromarray(([255,0,0]*data[0][24]).astype(np.uint8)))\n",
    "display(Image.fromarray(([255,0,0]*y_cpu).astype(np.uint8)))"
   ]
  },
  {
   "cell_type": "code",
   "execution_count": null,
   "metadata": {},
   "outputs": [],
   "source": []
  }
 ],
 "metadata": {
  "kernelspec": {
   "display_name": "Python 3",
   "language": "python",
   "name": "python3"
  },
  "language_info": {
   "codemirror_mode": {
    "name": "ipython",
    "version": 3
   },
   "file_extension": ".py",
   "mimetype": "text/x-python",
   "name": "python",
   "nbconvert_exporter": "python",
   "pygments_lexer": "ipython3",
   "version": "3.6.5rc1"
  }
 },
 "nbformat": 4,
 "nbformat_minor": 2
}
